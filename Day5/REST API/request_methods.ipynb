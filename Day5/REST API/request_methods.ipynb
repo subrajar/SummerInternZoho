{
 "cells": [
  {
   "cell_type": "code",
   "execution_count": 35,
   "id": "659e7a24",
   "metadata": {},
   "outputs": [
    {
     "name": "stdout",
     "output_type": "stream",
     "text": [
      "{'districtData': {'Nicobars': {'notes': 'District-wise numbers are out-dated as cumulative counts for each district are not reported in bulletin', 'active': 0, 'confirmed': 0, 'migratedother': 0, 'deceased': 0, 'recovered': 0, 'delta': {'confirmed': 0, 'deceased': 0, 'recovered': 0}}, 'North and Middle Andaman': {'notes': 'District-wise numbers are out-dated as cumulative counts for each district are not reported in bulletin', 'active': 0, 'confirmed': 1, 'migratedother': 0, 'deceased': 0, 'recovered': 1, 'delta': {'confirmed': 0, 'deceased': 0, 'recovered': 0}}, 'South Andaman': {'notes': 'District-wise numbers are out-dated as cumulative counts for each district are not reported in bulletin', 'active': 19, 'confirmed': 51, 'migratedother': 0, 'deceased': 0, 'recovered': 32, 'delta': {'confirmed': 0, 'deceased': 0, 'recovered': 0}}, 'Unknown': {'notes': '', 'active': -13, 'confirmed': 7496, 'migratedother': 0, 'deceased': 129, 'recovered': 7380, 'delta': {'confirmed': 0, 'deceased': 0, 'recovered': 0}}}, 'statecode': 'AN'}\n"
     ]
    }
   ],
   "source": [
    "import requests\n",
    "import json\n",
    "url=\"https://api.covid19india.org/state_district_wise.json\"\n",
    "response=requests.get(url)\n",
    "print(response.json()['Andaman and Nicobar Islands'])"
   ]
  },
  {
   "cell_type": "code",
   "execution_count": 37,
   "id": "ea73b702",
   "metadata": {},
   "outputs": [
    {
     "name": "stdout",
     "output_type": "stream",
     "text": [
      "confirmed cases in North and Middle Andaman : 1\n",
      "active cases in shahdara-delhi : 48\n"
     ]
    }
   ],
   "source": [
    "import requests\n",
    "import json\n",
    "url=\"https://api.covid19india.org/state_district_wise.json\"\n",
    "response=requests.get(url)\n",
    "print(f\"confirmed cases in North and Middle Andaman : {response.json()['Andaman and Nicobar Islands']['districtData']['North and Middle Andaman']['confirmed']}\")\n",
    "print(f\"active cases in shahdara-delhi : {response.json()['Delhi']['districtData']['Shahdara']['active']}\")"
   ]
  },
  {
   "cell_type": "code",
   "execution_count": 42,
   "id": "5da846ce",
   "metadata": {},
   "outputs": [
    {
     "name": "stdout",
     "output_type": "stream",
     "text": [
      "<html>\n",
      "<head><title>405 Not Allowed</title></head>\n",
      "<body bgcolor=\"white\">\n",
      "<center><h1>405 Not Allowed</h1></center>\n",
      "</body>\n",
      "</html>\n"
     ]
    }
   ],
   "source": [
    "import requests\n",
    "import json\n",
    "url=\"https://api.covid19india.org/state_district_wise.json\"\n",
    "data={\"name\":\"subraja\",\n",
    "      \"gender\":\"female\",\n",
    "      \"age\":20}\n",
    "response=requests.put(url,data)\n",
    "print(response.text)"
   ]
  }
 ],
 "metadata": {
  "kernelspec": {
   "display_name": "Python 3 (ipykernel)",
   "language": "python",
   "name": "python3"
  },
  "language_info": {
   "codemirror_mode": {
    "name": "ipython",
    "version": 3
   },
   "file_extension": ".py",
   "mimetype": "text/x-python",
   "name": "python",
   "nbconvert_exporter": "python",
   "pygments_lexer": "ipython3",
   "version": "3.9.7"
  }
 },
 "nbformat": 4,
 "nbformat_minor": 5
}
